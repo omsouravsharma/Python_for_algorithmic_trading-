{
 "cells": [
  {
   "cell_type": "markdown",
   "id": "43180f6c",
   "metadata": {},
   "source": [
    "## Input Output operations"
   ]
  },
  {
   "cell_type": "markdown",
   "id": "98c482fc",
   "metadata": {},
   "source": [
    "## Basic I/O with python"
   ]
  },
  {
   "cell_type": "markdown",
   "id": "ecb7a7bc",
   "metadata": {},
   "source": [
    "## Writing Objects to Disk"
   ]
  },
  {
   "cell_type": "code",
   "execution_count": 1,
   "id": "4a290f53",
   "metadata": {},
   "outputs": [],
   "source": [
    "from pylab import mpl, plt\n",
    "plt.style.use('seaborn')\n",
    "mpl.rcParams['font.family'] = 'serif'\n",
    "%matplotlib inline"
   ]
  },
  {
   "cell_type": "code",
   "execution_count": 2,
   "id": "28019b50",
   "metadata": {},
   "outputs": [],
   "source": [
    "import pickle\n",
    "import numpy as np\n",
    "from random import gauss"
   ]
  },
  {
   "cell_type": "code",
   "execution_count": 3,
   "id": "fb810c52",
   "metadata": {},
   "outputs": [],
   "source": [
    "a = [gauss(1.5,2) for i in range(1000000)]"
   ]
  },
  {
   "cell_type": "code",
   "execution_count": 4,
   "id": "de1c745a",
   "metadata": {},
   "outputs": [],
   "source": [
    "path = ''"
   ]
  },
  {
   "cell_type": "code",
   "execution_count": 5,
   "id": "87fc4219",
   "metadata": {},
   "outputs": [],
   "source": [
    "pkl_file = open(path + 'data.pkl','wb')"
   ]
  },
  {
   "cell_type": "code",
   "execution_count": 6,
   "id": "67d16972",
   "metadata": {},
   "outputs": [
    {
     "name": "stdout",
     "output_type": "stream",
     "text": [
      "CPU times: total: 15.6 ms\n",
      "Wall time: 18 ms\n"
     ]
    }
   ],
   "source": [
    "%time pickle.dump(a, pkl_file)"
   ]
  },
  {
   "cell_type": "code",
   "execution_count": 7,
   "id": "d3c56012",
   "metadata": {},
   "outputs": [],
   "source": [
    "pkl_file.close()"
   ]
  },
  {
   "cell_type": "code",
   "execution_count": 8,
   "id": "a22a567f",
   "metadata": {},
   "outputs": [],
   "source": [
    "pkl_file = open(path + 'data.pkl', 'rb')"
   ]
  },
  {
   "cell_type": "code",
   "execution_count": 9,
   "id": "4b004212",
   "metadata": {},
   "outputs": [
    {
     "name": "stdout",
     "output_type": "stream",
     "text": [
      "CPU times: total: 46.9 ms\n",
      "Wall time: 41.9 ms\n"
     ]
    }
   ],
   "source": [
    "%time b = pickle.load(pkl_file)"
   ]
  },
  {
   "cell_type": "code",
   "execution_count": 10,
   "id": "eaaef960",
   "metadata": {},
   "outputs": [
    {
     "data": {
      "text/plain": [
       "[1.4268298004131923, 1.1531407316486273, 0.7887988270009251]"
      ]
     },
     "execution_count": 10,
     "metadata": {},
     "output_type": "execute_result"
    }
   ],
   "source": [
    "a[:3]"
   ]
  },
  {
   "cell_type": "code",
   "execution_count": 11,
   "id": "7729695e",
   "metadata": {},
   "outputs": [
    {
     "data": {
      "text/plain": [
       "[1.4268298004131923, 1.1531407316486273, 0.7887988270009251]"
      ]
     },
     "execution_count": 11,
     "metadata": {},
     "output_type": "execute_result"
    }
   ],
   "source": [
    "b[:3]"
   ]
  },
  {
   "cell_type": "code",
   "execution_count": 12,
   "id": "66e9e485",
   "metadata": {},
   "outputs": [
    {
     "data": {
      "text/plain": [
       "True"
      ]
     },
     "execution_count": 12,
     "metadata": {},
     "output_type": "execute_result"
    }
   ],
   "source": [
    "np.allclose(np.array(a), np.array(b))"
   ]
  },
  {
   "cell_type": "markdown",
   "id": "de1f3a60",
   "metadata": {},
   "source": [
    "## Working with SQL Database"
   ]
  },
  {
   "cell_type": "code",
   "execution_count": 14,
   "id": "076a259a",
   "metadata": {},
   "outputs": [],
   "source": [
    "import sqlite3 as sq3"
   ]
  },
  {
   "cell_type": "code",
   "execution_count": 26,
   "id": "4a2bffca",
   "metadata": {},
   "outputs": [],
   "source": [
    "con = sq3.connect(path + 'numbs.db')"
   ]
  },
  {
   "cell_type": "code",
   "execution_count": 30,
   "id": "eeb2a582",
   "metadata": {},
   "outputs": [],
   "source": [
    "query = 'CREATE TABLE test(Data date, No1 real, No2 real)'"
   ]
  },
  {
   "cell_type": "code",
   "execution_count": 31,
   "id": "da5b7277",
   "metadata": {},
   "outputs": [
    {
     "data": {
      "text/plain": [
       "<sqlite3.Cursor at 0x2baa6f3e110>"
      ]
     },
     "execution_count": 31,
     "metadata": {},
     "output_type": "execute_result"
    }
   ],
   "source": [
    "con.execute(query)"
   ]
  },
  {
   "cell_type": "code",
   "execution_count": 32,
   "id": "14d4489a",
   "metadata": {},
   "outputs": [],
   "source": [
    "con.commit()"
   ]
  },
  {
   "cell_type": "code",
   "execution_count": 33,
   "id": "0326fbea",
   "metadata": {},
   "outputs": [],
   "source": [
    "q = con.execute"
   ]
  },
  {
   "cell_type": "code",
   "execution_count": 34,
   "id": "13056eef",
   "metadata": {},
   "outputs": [
    {
     "data": {
      "text/plain": [
       "[('table',\n",
       "  'numbs',\n",
       "  'numbs',\n",
       "  2,\n",
       "  'CREATE TABLE numbs(Data, date, No1 real, No2 real)'),\n",
       " ('table',\n",
       "  'test',\n",
       "  'test',\n",
       "  3,\n",
       "  'CREATE TABLE test(Data date, No1 real, No2 real)')]"
      ]
     },
     "execution_count": 34,
     "metadata": {},
     "output_type": "execute_result"
    }
   ],
   "source": [
    "q('SELECT * FROM sqlite_master').fetchall()"
   ]
  },
  {
   "cell_type": "code",
   "execution_count": 35,
   "id": "1256d431",
   "metadata": {},
   "outputs": [],
   "source": [
    "import datetime"
   ]
  },
  {
   "cell_type": "code",
   "execution_count": 24,
   "id": "69bb054d",
   "metadata": {},
   "outputs": [],
   "source": [
    "now = datetime.datetime.now()"
   ]
  },
  {
   "cell_type": "code",
   "execution_count": 36,
   "id": "ee4527d1",
   "metadata": {},
   "outputs": [
    {
     "data": {
      "text/plain": [
       "<sqlite3.Cursor at 0x2baa6f3e420>"
      ]
     },
     "execution_count": 36,
     "metadata": {},
     "output_type": "execute_result"
    }
   ],
   "source": [
    "q('INSERT INTO test VALUES(?,?,?)', (now, 0.12, 7.3))"
   ]
  },
  {
   "cell_type": "code",
   "execution_count": 37,
   "id": "1b50a4a0",
   "metadata": {},
   "outputs": [],
   "source": [
    "np.random.seed(100)"
   ]
  },
  {
   "cell_type": "code",
   "execution_count": 38,
   "id": "1409a4fa",
   "metadata": {},
   "outputs": [],
   "source": [
    "data = np.random.standard_normal((10000,2)).round(4)"
   ]
  },
  {
   "cell_type": "code",
   "execution_count": 40,
   "id": "42cd6e86",
   "metadata": {},
   "outputs": [
    {
     "name": "stdout",
     "output_type": "stream",
     "text": [
      "CPU times: total: 62.5 ms\n",
      "Wall time: 64.8 ms\n"
     ]
    }
   ],
   "source": [
    "%%time\n",
    "for row in data:\n",
    "    now = datetime.datetime.now()\n",
    "    q('INSERT INTO test Values(?,?,?)', (now, row[0],row[1]))\n",
    "con.commit()"
   ]
  },
  {
   "cell_type": "code",
   "execution_count": 41,
   "id": "23cc1c79",
   "metadata": {},
   "outputs": [
    {
     "data": {
      "text/plain": [
       "[('2022-09-17 08:24:24.101898', 0.12, 7.3),\n",
       " ('2022-09-17 08:28:55.581566', -1.7498, 0.3427),\n",
       " ('2022-09-17 08:28:55.582564', 1.153, -0.2524),\n",
       " ('2022-09-17 08:28:55.582564', 0.9813, 0.5142)]"
      ]
     },
     "execution_count": 41,
     "metadata": {},
     "output_type": "execute_result"
    }
   ],
   "source": [
    "q('SELECT * FROM test').fetchmany(4)"
   ]
  },
  {
   "cell_type": "code",
   "execution_count": 42,
   "id": "82fa6b65",
   "metadata": {},
   "outputs": [
    {
     "data": {
      "text/plain": [
       "[('2022-09-17 08:28:55.582564', 1.153, -0.2524),\n",
       " ('2022-09-17 08:28:55.582564', 0.9813, 0.5142),\n",
       " ('2022-09-17 08:28:55.582564', 0.6727, -0.1044),\n",
       " ('2022-09-17 08:28:55.582564', 1.619, 1.5416)]"
      ]
     },
     "execution_count": 42,
     "metadata": {},
     "output_type": "execute_result"
    }
   ],
   "source": [
    "q('SELECT * FROM test WHERE no1 > 0.5').fetchmany(4)"
   ]
  },
  {
   "cell_type": "code",
   "execution_count": 43,
   "id": "f0932fd7",
   "metadata": {},
   "outputs": [],
   "source": [
    "pointer = q('SELECT * FROM test')"
   ]
  },
  {
   "cell_type": "code",
   "execution_count": 44,
   "id": "e7638634",
   "metadata": {},
   "outputs": [
    {
     "name": "stdout",
     "output_type": "stream",
     "text": [
      "('2022-09-17 08:24:24.101898', 0.12, 7.3)\n",
      "('2022-09-17 08:28:55.581566', -1.7498, 0.3427)\n",
      "('2022-09-17 08:28:55.582564', 1.153, -0.2524)\n"
     ]
    }
   ],
   "source": [
    "for i in range(3):\n",
    "    print(pointer.fetchone())"
   ]
  },
  {
   "cell_type": "code",
   "execution_count": 46,
   "id": "7929b26c",
   "metadata": {},
   "outputs": [
    {
     "data": {
      "text/plain": [
       "[]"
      ]
     },
     "execution_count": 46,
     "metadata": {},
     "output_type": "execute_result"
    }
   ],
   "source": [
    "pointer.fetchall()"
   ]
  },
  {
   "cell_type": "markdown",
   "id": "6edc78e6",
   "metadata": {},
   "source": [
    "## Writing and Reading NumPy Arrays"
   ]
  },
  {
   "cell_type": "code",
   "execution_count": null,
   "id": "bcfcfdcc",
   "metadata": {},
   "outputs": [],
   "source": []
  }
 ],
 "metadata": {
  "kernelspec": {
   "display_name": "Python 3 (ipykernel)",
   "language": "python",
   "name": "python3"
  },
  "language_info": {
   "codemirror_mode": {
    "name": "ipython",
    "version": 3
   },
   "file_extension": ".py",
   "mimetype": "text/x-python",
   "name": "python",
   "nbconvert_exporter": "python",
   "pygments_lexer": "ipython3",
   "version": "3.9.12"
  }
 },
 "nbformat": 4,
 "nbformat_minor": 5
}
