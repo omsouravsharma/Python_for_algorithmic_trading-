{
 "cells": [
  {
   "cell_type": "markdown",
   "id": "43180f6c",
   "metadata": {},
   "source": [
    "## Input Output operations"
   ]
  },
  {
   "cell_type": "markdown",
   "id": "98c482fc",
   "metadata": {},
   "source": [
    "## Basic I/O with python"
   ]
  },
  {
   "cell_type": "markdown",
   "id": "ecb7a7bc",
   "metadata": {},
   "source": [
    "## Writing Objects to Disk"
   ]
  },
  {
   "cell_type": "code",
   "execution_count": 1,
   "id": "4a290f53",
   "metadata": {},
   "outputs": [],
   "source": [
    "from pylab import mpl, plt\n",
    "plt.style.use('seaborn')\n",
    "mpl.rcParams['font.family'] = 'serif'\n",
    "%matplotlib inline"
   ]
  },
  {
   "cell_type": "code",
   "execution_count": 2,
   "id": "28019b50",
   "metadata": {},
   "outputs": [],
   "source": [
    "import pickle\n",
    "import numpy as np\n",
    "from random import gauss"
   ]
  },
  {
   "cell_type": "code",
   "execution_count": 5,
   "id": "fb810c52",
   "metadata": {},
   "outputs": [],
   "source": [
    "a = [gauss(1.5,2) for i in range(1000000)]"
   ]
  },
  {
   "cell_type": "code",
   "execution_count": 7,
   "id": "de1c745a",
   "metadata": {},
   "outputs": [],
   "source": [
    "path = ''"
   ]
  },
  {
   "cell_type": "code",
   "execution_count": 9,
   "id": "87fc4219",
   "metadata": {},
   "outputs": [],
   "source": [
    "pkl_file = open(path + 'data.pkl','wb')"
   ]
  },
  {
   "cell_type": "code",
   "execution_count": 10,
   "id": "67d16972",
   "metadata": {},
   "outputs": [
    {
     "name": "stdout",
     "output_type": "stream",
     "text": [
      "CPU times: total: 31.2 ms\n",
      "Wall time: 22.9 ms\n"
     ]
    }
   ],
   "source": [
    "%time pickle.dump(a, pkl_file)"
   ]
  },
  {
   "cell_type": "code",
   "execution_count": 11,
   "id": "d3c56012",
   "metadata": {},
   "outputs": [],
   "source": [
    "pkl_file.close()"
   ]
  },
  {
   "cell_type": "code",
   "execution_count": 12,
   "id": "a22a567f",
   "metadata": {},
   "outputs": [],
   "source": [
    "pkl_file = open(path + 'data.pkl', 'rb')"
   ]
  },
  {
   "cell_type": "code",
   "execution_count": 13,
   "id": "4b004212",
   "metadata": {},
   "outputs": [
    {
     "name": "stdout",
     "output_type": "stream",
     "text": [
      "CPU times: total: 46.9 ms\n",
      "Wall time: 51.9 ms\n"
     ]
    }
   ],
   "source": [
    "%time b = pickle.load(pkl_file)"
   ]
  },
  {
   "cell_type": "code",
   "execution_count": 14,
   "id": "eaaef960",
   "metadata": {},
   "outputs": [
    {
     "data": {
      "text/plain": [
       "[0.6083410470553796, 2.626864890625953, 3.0560723390317603]"
      ]
     },
     "execution_count": 14,
     "metadata": {},
     "output_type": "execute_result"
    }
   ],
   "source": [
    "a[:3]"
   ]
  },
  {
   "cell_type": "code",
   "execution_count": 15,
   "id": "7729695e",
   "metadata": {},
   "outputs": [
    {
     "data": {
      "text/plain": [
       "[0.6083410470553796, 2.626864890625953, 3.0560723390317603]"
      ]
     },
     "execution_count": 15,
     "metadata": {},
     "output_type": "execute_result"
    }
   ],
   "source": [
    "b[:3]"
   ]
  },
  {
   "cell_type": "code",
   "execution_count": 16,
   "id": "66e9e485",
   "metadata": {},
   "outputs": [
    {
     "data": {
      "text/plain": [
       "True"
      ]
     },
     "execution_count": 16,
     "metadata": {},
     "output_type": "execute_result"
    }
   ],
   "source": [
    "np.allclose(np.array(a), np.array(b))"
   ]
  },
  {
   "cell_type": "markdown",
   "id": "de1f3a60",
   "metadata": {},
   "source": [
    "## Working with SQL Database"
   ]
  },
  {
   "cell_type": "code",
   "execution_count": null,
   "id": "076a259a",
   "metadata": {},
   "outputs": [],
   "source": [
    "259"
   ]
  }
 ],
 "metadata": {
  "kernelspec": {
   "display_name": "Python 3 (ipykernel)",
   "language": "python",
   "name": "python3"
  },
  "language_info": {
   "codemirror_mode": {
    "name": "ipython",
    "version": 3
   },
   "file_extension": ".py",
   "mimetype": "text/x-python",
   "name": "python",
   "nbconvert_exporter": "python",
   "pygments_lexer": "ipython3",
   "version": "3.9.12"
  }
 },
 "nbformat": 4,
 "nbformat_minor": 5
}
