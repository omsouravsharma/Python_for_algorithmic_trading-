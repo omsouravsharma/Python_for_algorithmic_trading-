{
 "cells": [
  {
   "cell_type": "code",
   "execution_count": 1,
   "id": "1e08fe99",
   "metadata": {},
   "outputs": [],
   "source": [
    "composed_function = 6750*1.5-1400"
   ]
  },
  {
   "cell_type": "code",
   "execution_count": 2,
   "id": "b9b2d185",
   "metadata": {},
   "outputs": [
    {
     "data": {
      "text/plain": [
       "8725.0"
      ]
     },
     "execution_count": 2,
     "metadata": {},
     "output_type": "execute_result"
    }
   ],
   "source": [
    "composed_function"
   ]
  },
  {
   "cell_type": "code",
   "execution_count": 4,
   "id": "45710a9f",
   "metadata": {},
   "outputs": [
    {
     "data": {
      "text/plain": [
       "14600.0"
      ]
     },
     "execution_count": 4,
     "metadata": {},
     "output_type": "execute_result"
    }
   ],
   "source": [
    "M = 0.2*((25000*3)-1000) -200\n",
    "M"
   ]
  },
  {
   "cell_type": "code",
   "execution_count": 7,
   "id": "7f6d5b4f",
   "metadata": {},
   "outputs": [
    {
     "data": {
      "text/plain": [
       "5000.0"
      ]
     },
     "execution_count": 7,
     "metadata": {},
     "output_type": "execute_result"
    }
   ],
   "source": [
    "0.2*25000\n"
   ]
  },
  {
   "cell_type": "code",
   "execution_count": 8,
   "id": "35b4a2c9",
   "metadata": {},
   "outputs": [
    {
     "data": {
      "text/plain": [
       "-200.0"
      ]
     },
     "execution_count": 8,
     "metadata": {},
     "output_type": "execute_result"
    }
   ],
   "source": [
    "0.2*-1000"
   ]
  },
  {
   "cell_type": "code",
   "execution_count": null,
   "id": "522961c5",
   "metadata": {},
   "outputs": [],
   "source": []
  }
 ],
 "metadata": {
  "kernelspec": {
   "display_name": "Python 3 (ipykernel)",
   "language": "python",
   "name": "python3"
  },
  "language_info": {
   "codemirror_mode": {
    "name": "ipython",
    "version": 3
   },
   "file_extension": ".py",
   "mimetype": "text/x-python",
   "name": "python",
   "nbconvert_exporter": "python",
   "pygments_lexer": "ipython3",
   "version": "3.9.12"
  }
 },
 "nbformat": 4,
 "nbformat_minor": 5
}
