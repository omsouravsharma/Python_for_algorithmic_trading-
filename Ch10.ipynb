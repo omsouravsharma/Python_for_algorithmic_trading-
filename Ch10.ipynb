{
 "cells": [
  {
   "cell_type": "markdown",
   "id": "98484baf",
   "metadata": {},
   "source": [
    "# Performance Python"
   ]
  },
  {
   "cell_type": "markdown",
   "id": "ff819330",
   "metadata": {},
   "source": [
    "## Loops"
   ]
  },
  {
   "cell_type": "code",
   "execution_count": 1,
   "id": "9e8430bb",
   "metadata": {},
   "outputs": [],
   "source": [
    "import random\n",
    "\n",
    "def average_py(n):\n",
    "    s = 0\n",
    "    for i in range(n):\n",
    "        s += random.random()\n",
    "    return s/n"
   ]
  },
  {
   "cell_type": "code",
   "execution_count": 2,
   "id": "b238f3fb",
   "metadata": {},
   "outputs": [
    {
     "name": "stdout",
     "output_type": "stream",
     "text": [
      "CPU times: total: 93.8 ms\n",
      "Wall time: 85.8 ms\n"
     ]
    },
    {
     "data": {
      "text/plain": [
       "0.4995799653282014"
      ]
     },
     "execution_count": 2,
     "metadata": {},
     "output_type": "execute_result"
    }
   ],
   "source": [
    "n = 1000000\n",
    "%time average_py(n)"
   ]
  },
  {
   "cell_type": "code",
   "execution_count": 3,
   "id": "f1910bb8",
   "metadata": {},
   "outputs": [
    {
     "name": "stdout",
     "output_type": "stream",
     "text": [
      "84.7 ms ± 2.35 ms per loop (mean ± std. dev. of 7 runs, 10 loops each)\n"
     ]
    }
   ],
   "source": [
    "%timeit average_py(n)"
   ]
  },
  {
   "cell_type": "code",
   "execution_count": 4,
   "id": "f0118f99",
   "metadata": {},
   "outputs": [
    {
     "name": "stdout",
     "output_type": "stream",
     "text": [
      "CPU times: total: 109 ms\n",
      "Wall time: 102 ms\n"
     ]
    },
    {
     "data": {
      "text/plain": [
       "0.4999095324618933"
      ]
     },
     "execution_count": 4,
     "metadata": {},
     "output_type": "execute_result"
    }
   ],
   "source": [
    "%time sum([random.random() for i in range(n)])/n "
   ]
  },
  {
   "cell_type": "markdown",
   "id": "1d38af16",
   "metadata": {},
   "source": [
    "## Numpy"
   ]
  },
  {
   "cell_type": "code",
   "execution_count": 5,
   "id": "fc5996c7",
   "metadata": {},
   "outputs": [],
   "source": [
    "import numpy as np"
   ]
  },
  {
   "cell_type": "code",
   "execution_count": 6,
   "id": "bd2d8b78",
   "metadata": {},
   "outputs": [],
   "source": [
    "def average_np(n):\n",
    "    s = np.random.random(n)\n",
    "    return s.mean()"
   ]
  },
  {
   "cell_type": "code",
   "execution_count": 7,
   "id": "f13210aa",
   "metadata": {},
   "outputs": [
    {
     "name": "stdout",
     "output_type": "stream",
     "text": [
      "CPU times: total: 31.2 ms\n",
      "Wall time: 9.97 ms\n"
     ]
    },
    {
     "data": {
      "text/plain": [
       "0.5003049801895055"
      ]
     },
     "execution_count": 7,
     "metadata": {},
     "output_type": "execute_result"
    }
   ],
   "source": [
    "%time average_np(n)"
   ]
  },
  {
   "cell_type": "code",
   "execution_count": 8,
   "id": "e5815326",
   "metadata": {},
   "outputs": [
    {
     "name": "stdout",
     "output_type": "stream",
     "text": [
      "7.91 ms ± 493 µs per loop (mean ± std. dev. of 7 runs, 100 loops each)\n"
     ]
    }
   ],
   "source": [
    "%timeit average_np(n)"
   ]
  },
  {
   "cell_type": "markdown",
   "id": "67f48a80",
   "metadata": {},
   "source": [
    "## Algorithms"
   ]
  },
  {
   "cell_type": "markdown",
   "id": "ef1c6ff5",
   "metadata": {},
   "source": [
    "## Prime Number"
   ]
  },
  {
   "cell_type": "code",
   "execution_count": 9,
   "id": "5684edda",
   "metadata": {},
   "outputs": [],
   "source": [
    "def is_prime(I):\n",
    "    if I%2 ==0:\n",
    "        return False\n",
    "    for i in range(3, int(I**0.5)+1,2):\n",
    "        if I%i ==0:\n",
    "            return False\n",
    "    return True"
   ]
  },
  {
   "cell_type": "code",
   "execution_count": 10,
   "id": "a79105fe",
   "metadata": {},
   "outputs": [],
   "source": [
    "n = int(1e8 +3)"
   ]
  },
  {
   "cell_type": "code",
   "execution_count": 11,
   "id": "15b83f07",
   "metadata": {},
   "outputs": [
    {
     "data": {
      "text/plain": [
       "100000003"
      ]
     },
     "execution_count": 11,
     "metadata": {},
     "output_type": "execute_result"
    }
   ],
   "source": [
    "n"
   ]
  },
  {
   "cell_type": "code",
   "execution_count": 12,
   "id": "cbb9221c",
   "metadata": {},
   "outputs": [
    {
     "name": "stdout",
     "output_type": "stream",
     "text": [
      "CPU times: total: 0 ns\n",
      "Wall time: 0 ns\n"
     ]
    },
    {
     "data": {
      "text/plain": [
       "False"
      ]
     },
     "execution_count": 12,
     "metadata": {},
     "output_type": "execute_result"
    }
   ],
   "source": [
    "%time is_prime(n)"
   ]
  },
  {
   "cell_type": "code",
   "execution_count": 13,
   "id": "c7e052d0",
   "metadata": {},
   "outputs": [],
   "source": [
    "pi = int(1e8 + 7)"
   ]
  },
  {
   "cell_type": "code",
   "execution_count": 14,
   "id": "93d96107",
   "metadata": {},
   "outputs": [
    {
     "data": {
      "text/plain": [
       "100000007"
      ]
     },
     "execution_count": 14,
     "metadata": {},
     "output_type": "execute_result"
    }
   ],
   "source": [
    "pi"
   ]
  },
  {
   "cell_type": "code",
   "execution_count": 15,
   "id": "7c9fcc86",
   "metadata": {},
   "outputs": [
    {
     "name": "stdout",
     "output_type": "stream",
     "text": [
      "CPU times: total: 0 ns\n",
      "Wall time: 997 µs\n"
     ]
    },
    {
     "data": {
      "text/plain": [
       "True"
      ]
     },
     "execution_count": 15,
     "metadata": {},
     "output_type": "execute_result"
    }
   ],
   "source": [
    "%time is_prime(pi)"
   ]
  },
  {
   "cell_type": "code",
   "execution_count": 16,
   "id": "649b469f",
   "metadata": {},
   "outputs": [],
   "source": [
    "p2 = 100109100129162907"
   ]
  },
  {
   "cell_type": "code",
   "execution_count": 17,
   "id": "d4b05436",
   "metadata": {},
   "outputs": [
    {
     "data": {
      "text/plain": [
       "57"
      ]
     },
     "execution_count": 17,
     "metadata": {},
     "output_type": "execute_result"
    }
   ],
   "source": [
    "p2.bit_length()"
   ]
  },
  {
   "cell_type": "code",
   "execution_count": 18,
   "id": "544ad8bd",
   "metadata": {},
   "outputs": [
    {
     "name": "stdout",
     "output_type": "stream",
     "text": [
      "CPU times: total: 12.6 s\n",
      "Wall time: 12.6 s\n"
     ]
    },
    {
     "data": {
      "text/plain": [
       "True"
      ]
     },
     "execution_count": 18,
     "metadata": {},
     "output_type": "execute_result"
    }
   ],
   "source": [
    "%time is_prime(p2)"
   ]
  },
  {
   "cell_type": "code",
   "execution_count": 19,
   "id": "732b6428",
   "metadata": {},
   "outputs": [],
   "source": [
    "\n",
    "# import multiprocessing as mp\n",
    "# pool = mp.Pool(processes=4) \n",
    "# %time pool.map(is_prime, 10 * [pi]) \n"
   ]
  },
  {
   "cell_type": "markdown",
   "id": "cc1d82d4",
   "metadata": {},
   "source": [
    "## Fibonacci Number"
   ]
  },
  {
   "cell_type": "code",
   "execution_count": 20,
   "id": "153159a2",
   "metadata": {},
   "outputs": [],
   "source": [
    "def fibo(n):\n",
    "    if n < 2: return n \n",
    "    else:\n",
    "        return fibo(n-1) + fibo(n-2)"
   ]
  },
  {
   "cell_type": "code",
   "execution_count": 21,
   "id": "f9678a06",
   "metadata": {},
   "outputs": [
    {
     "name": "stdout",
     "output_type": "stream",
     "text": [
      "CPU times: total: 2.77 s\n",
      "Wall time: 2.76 s\n"
     ]
    },
    {
     "data": {
      "text/plain": [
       "9227465"
      ]
     },
     "execution_count": 21,
     "metadata": {},
     "output_type": "execute_result"
    }
   ],
   "source": [
    "%time fibo(35)"
   ]
  },
  {
   "cell_type": "code",
   "execution_count": 22,
   "id": "2a35adef",
   "metadata": {},
   "outputs": [],
   "source": [
    "from functools import lru_cache as cache\n",
    "@cache(maxsize=None) \n",
    "def fib_rec_py2(n):\n",
    "    if n < 2:\n",
    "         return n\n",
    "    else:\n",
    "         return fib_rec_py2(n - 1) + fib_rec_py2(n - 2)"
   ]
  },
  {
   "cell_type": "code",
   "execution_count": 23,
   "id": "2f21ef12",
   "metadata": {},
   "outputs": [
    {
     "name": "stdout",
     "output_type": "stream",
     "text": [
      "CPU times: total: 0 ns\n",
      "Wall time: 0 ns\n"
     ]
    },
    {
     "data": {
      "text/plain": [
       "23416728348467685"
      ]
     },
     "execution_count": 23,
     "metadata": {},
     "output_type": "execute_result"
    }
   ],
   "source": [
    "%time fib_rec_py2(80)"
   ]
  },
  {
   "cell_type": "markdown",
   "id": "0e134ff0",
   "metadata": {},
   "source": [
    "## The Number Pi"
   ]
  },
  {
   "cell_type": "code",
   "execution_count": 26,
   "id": "fd77cfb5",
   "metadata": {},
   "outputs": [],
   "source": [
    "import random\n",
    "import numpy as np\n",
    "from pylab import mpl, plt\n",
    "plt.style.use('seaborn')\n",
    "mpl.rcParams['font.family'] = 'serif'\n",
    "%matplotlib inline\n"
   ]
  },
  {
   "cell_type": "code",
   "execution_count": 27,
   "id": "460967bd",
   "metadata": {},
   "outputs": [],
   "source": [
    "rn = [(random.random()*2-1, random.random()*2-1) for _ in range(500)]"
   ]
  },
  {
   "cell_type": "code",
   "execution_count": 34,
   "id": "33edf9ea",
   "metadata": {},
   "outputs": [],
   "source": [
    "rn = np.array(rn)\n",
    "\n"
   ]
  },
  {
   "cell_type": "code",
   "execution_count": 37,
   "id": "77e45b10",
   "metadata": {},
   "outputs": [
    {
     "data": {
      "image/png": "[encoded data removed]",
      "text/plain": [
       "<Figure size 504x504 with 1 Axes>"
      ]
     },
     "metadata": {
      "needs_background": "light"
     },
     "output_type": "display_data"
    }
   ],
   "source": [
    "fig = plt.figure(figsize=(7,7))\n",
    "ax = fig.add_subplot(1,1,1)\n",
    "circ = plt.Circle((0,0), radius=1, edgecolor ='g', lw = 2.0, facecolor='None')\n",
    "box = plt.Rectangle((-1,1),2,3, edgecolor='b', alpha=0.3)\n",
    "ax.add_patch(circ)\n",
    "ax.add_patch(box)\n",
    "plt.plot(rn[:,0], rn[:,1],'r.')\n",
    "plt.ylim(-1.1, 1.1)\n",
    "plt.xlim(-1.1,1.1);"
   ]
  },
  {
   "cell_type": "markdown",
   "id": "c0587ef3",
   "metadata": {},
   "source": [
    "## Monte Carlo Simulation"
   ]
  },
  {
   "cell_type": "code",
   "execution_count": 39,
   "id": "ecd70ab7",
   "metadata": {},
   "outputs": [],
   "source": [
    "M = 10\n",
    "I = 50000\n",
    "\n",
    "def msc_simulation_py(p):\n",
    "    M, I = p\n",
    "    dt = T/M\n",
    "    S = np.zeros((M + 1, I))\n",
    "    S[0] = S0\n",
    "    rn = np.random.standard_normal(S.shape)\n",
    "    for t in range(i, M + 1):\n",
    "        for i in range(I):\n",
    "            S[t,i] = [t-1+i]*math.exp((r-sigma **2/2) *dt +\n",
    "                                     sigma *math.sqrt(dt)*rn[t,i])\n",
    "            return S"
   ]
  },
  {
   "cell_type": "code",
   "execution_count": 78,
   "id": "58ac0bea",
   "metadata": {},
   "outputs": [],
   "source": [
    "import os\n",
    "import random\n",
    "import numpy as np\n",
    "import pandas as pd\n",
    "from pylab import mpl, plt\n",
    "import pandas_datareader.data as web\n",
    "data = web.DataReader('WIPRO.NS', 'yahoo', '2016-01-01','2022-09-30')"
   ]
  },
  {
   "cell_type": "code",
   "execution_count": 84,
   "id": "7912ac2e",
   "metadata": {},
   "outputs": [],
   "source": [
    "alpha = 0.25"
   ]
  },
  {
   "cell_type": "code",
   "execution_count": 95,
   "id": "07b93ff1",
   "metadata": {},
   "outputs": [],
   "source": [
    "data['EWMA'] = data['Close']"
   ]
  },
  {
   "cell_type": "code",
   "execution_count": 75,
   "id": "a8ede1e9",
   "metadata": {},
   "outputs": [],
   "source": [
    "data = data['Close']"
   ]
  },
  {
   "cell_type": "code",
   "execution_count": 96,
   "id": "3124db9b",
   "metadata": {},
   "outputs": [
    {
     "data": {
      "text/html": [
       "<div>\n",
       "<style scoped>\n",
       "    .dataframe tbody tr th:only-of-type {\n",
       "        vertical-align: middle;\n",
       "    }\n",
       "\n",
       "    .dataframe tbody tr th {\n",
       "        vertical-align: top;\n",
       "    }\n",
       "\n",
       "    .dataframe thead th {\n",
       "        text-align: right;\n",
       "    }\n",
       "</style>\n",
       "<table border=\"1\" class=\"dataframe\">\n",
       "  <thead>\n",
       "    <tr style=\"text-align: right;\">\n",
       "      <th></th>\n",
       "      <th>High</th>\n",
       "      <th>Low</th>\n",
       "      <th>Open</th>\n",
       "      <th>Close</th>\n",
       "      <th>Volume</th>\n",
       "      <th>Adj Close</th>\n",
       "      <th>EWMA</th>\n",
       "    </tr>\n",
       "    <tr>\n",
       "      <th>Date</th>\n",
       "      <th></th>\n",
       "      <th></th>\n",
       "      <th></th>\n",
       "      <th></th>\n",
       "      <th></th>\n",
       "      <th></th>\n",
       "      <th></th>\n",
       "    </tr>\n",
       "  </thead>\n",
       "  <tbody>\n",
       "    <tr>\n",
       "      <th>2016-01-01</th>\n",
       "      <td>209.925049</td>\n",
       "      <td>207.787552</td>\n",
       "      <td>209.925049</td>\n",
       "      <td>208.668808</td>\n",
       "      <td>1582762.0</td>\n",
       "      <td>200.972626</td>\n",
       "      <td>208.668808</td>\n",
       "    </tr>\n",
       "    <tr>\n",
       "      <th>2016-01-04</th>\n",
       "      <td>210.000046</td>\n",
       "      <td>208.500046</td>\n",
       "      <td>208.875046</td>\n",
       "      <td>209.137558</td>\n",
       "      <td>1715818.0</td>\n",
       "      <td>201.424072</td>\n",
       "      <td>209.137558</td>\n",
       "    </tr>\n",
       "    <tr>\n",
       "      <th>2016-01-05</th>\n",
       "      <td>211.875046</td>\n",
       "      <td>207.843796</td>\n",
       "      <td>210.750046</td>\n",
       "      <td>208.837555</td>\n",
       "      <td>2343764.0</td>\n",
       "      <td>201.135117</td>\n",
       "      <td>208.837555</td>\n",
       "    </tr>\n",
       "    <tr>\n",
       "      <th>2016-01-06</th>\n",
       "      <td>209.925049</td>\n",
       "      <td>207.375046</td>\n",
       "      <td>208.875046</td>\n",
       "      <td>208.162552</td>\n",
       "      <td>3061769.0</td>\n",
       "      <td>200.485046</td>\n",
       "      <td>208.162552</td>\n",
       "    </tr>\n",
       "    <tr>\n",
       "      <th>2016-01-07</th>\n",
       "      <td>209.043808</td>\n",
       "      <td>205.162552</td>\n",
       "      <td>207.375046</td>\n",
       "      <td>206.193802</td>\n",
       "      <td>5584145.0</td>\n",
       "      <td>198.588867</td>\n",
       "      <td>206.193802</td>\n",
       "    </tr>\n",
       "  </tbody>\n",
       "</table>\n",
       "</div>"
      ],
      "text/plain": [
       "                  High         Low        Open       Close     Volume  \\\n",
       "Date                                                                    \n",
       "2016-01-01  209.925049  207.787552  209.925049  208.668808  1582762.0   \n",
       "2016-01-04  210.000046  208.500046  208.875046  209.137558  1715818.0   \n",
       "2016-01-05  211.875046  207.843796  210.750046  208.837555  2343764.0   \n",
       "2016-01-06  209.925049  207.375046  208.875046  208.162552  3061769.0   \n",
       "2016-01-07  209.043808  205.162552  207.375046  206.193802  5584145.0   \n",
       "\n",
       "             Adj Close        EWMA  \n",
       "Date                                \n",
       "2016-01-01  200.972626  208.668808  \n",
       "2016-01-04  201.424072  209.137558  \n",
       "2016-01-05  201.135117  208.837555  \n",
       "2016-01-06  200.485046  208.162552  \n",
       "2016-01-07  198.588867  206.193802  "
      ]
     },
     "execution_count": 96,
     "metadata": {},
     "output_type": "execute_result"
    }
   ],
   "source": [
    "data.head()"
   ]
  },
  {
   "cell_type": "code",
   "execution_count": 100,
   "id": "3d5e665d",
   "metadata": {},
   "outputs": [],
   "source": [
    "for t in range(len(data)):\n",
    "    data.loc[data.index[t],'EWMA'] = (\n",
    "        alpha*data.loc[data.index[t],'Close'] + (1-alpha)*data.loc[data.index[t], 'EWMA'])"
   ]
  },
  {
   "cell_type": "code",
   "execution_count": 101,
   "id": "b0a240ee",
   "metadata": {},
   "outputs": [
    {
     "data": {
      "text/html": [
       "<div>\n",
       "<style scoped>\n",
       "    .dataframe tbody tr th:only-of-type {\n",
       "        vertical-align: middle;\n",
       "    }\n",
       "\n",
       "    .dataframe tbody tr th {\n",
       "        vertical-align: top;\n",
       "    }\n",
       "\n",
       "    .dataframe thead th {\n",
       "        text-align: right;\n",
       "    }\n",
       "</style>\n",
       "<table border=\"1\" class=\"dataframe\">\n",
       "  <thead>\n",
       "    <tr style=\"text-align: right;\">\n",
       "      <th></th>\n",
       "      <th>High</th>\n",
       "      <th>Low</th>\n",
       "      <th>Open</th>\n",
       "      <th>Close</th>\n",
       "      <th>Volume</th>\n",
       "      <th>Adj Close</th>\n",
       "      <th>EWMA</th>\n",
       "    </tr>\n",
       "    <tr>\n",
       "      <th>Date</th>\n",
       "      <th></th>\n",
       "      <th></th>\n",
       "      <th></th>\n",
       "      <th></th>\n",
       "      <th></th>\n",
       "      <th></th>\n",
       "      <th></th>\n",
       "    </tr>\n",
       "  </thead>\n",
       "  <tbody>\n",
       "    <tr>\n",
       "      <th>2016-01-01</th>\n",
       "      <td>209.925049</td>\n",
       "      <td>207.787552</td>\n",
       "      <td>209.925049</td>\n",
       "      <td>208.668808</td>\n",
       "      <td>1582762.0</td>\n",
       "      <td>200.972626</td>\n",
       "      <td>208.668808</td>\n",
       "    </tr>\n",
       "    <tr>\n",
       "      <th>2016-01-04</th>\n",
       "      <td>210.000046</td>\n",
       "      <td>208.500046</td>\n",
       "      <td>208.875046</td>\n",
       "      <td>209.137558</td>\n",
       "      <td>1715818.0</td>\n",
       "      <td>201.424072</td>\n",
       "      <td>209.137558</td>\n",
       "    </tr>\n",
       "    <tr>\n",
       "      <th>2016-01-05</th>\n",
       "      <td>211.875046</td>\n",
       "      <td>207.843796</td>\n",
       "      <td>210.750046</td>\n",
       "      <td>208.837555</td>\n",
       "      <td>2343764.0</td>\n",
       "      <td>201.135117</td>\n",
       "      <td>208.837555</td>\n",
       "    </tr>\n",
       "    <tr>\n",
       "      <th>2016-01-06</th>\n",
       "      <td>209.925049</td>\n",
       "      <td>207.375046</td>\n",
       "      <td>208.875046</td>\n",
       "      <td>208.162552</td>\n",
       "      <td>3061769.0</td>\n",
       "      <td>200.485046</td>\n",
       "      <td>208.162552</td>\n",
       "    </tr>\n",
       "    <tr>\n",
       "      <th>2016-01-07</th>\n",
       "      <td>209.043808</td>\n",
       "      <td>205.162552</td>\n",
       "      <td>207.375046</td>\n",
       "      <td>206.193802</td>\n",
       "      <td>5584145.0</td>\n",
       "      <td>198.588867</td>\n",
       "      <td>206.193802</td>\n",
       "    </tr>\n",
       "  </tbody>\n",
       "</table>\n",
       "</div>"
      ],
      "text/plain": [
       "                  High         Low        Open       Close     Volume  \\\n",
       "Date                                                                    \n",
       "2016-01-01  209.925049  207.787552  209.925049  208.668808  1582762.0   \n",
       "2016-01-04  210.000046  208.500046  208.875046  209.137558  1715818.0   \n",
       "2016-01-05  211.875046  207.843796  210.750046  208.837555  2343764.0   \n",
       "2016-01-06  209.925049  207.375046  208.875046  208.162552  3061769.0   \n",
       "2016-01-07  209.043808  205.162552  207.375046  206.193802  5584145.0   \n",
       "\n",
       "             Adj Close        EWMA  \n",
       "Date                                \n",
       "2016-01-01  200.972626  208.668808  \n",
       "2016-01-04  201.424072  209.137558  \n",
       "2016-01-05  201.135117  208.837555  \n",
       "2016-01-06  200.485046  208.162552  \n",
       "2016-01-07  198.588867  206.193802  "
      ]
     },
     "execution_count": 101,
     "metadata": {},
     "output_type": "execute_result"
    }
   ],
   "source": [
    "data.head()"
   ]
  },
  {
   "cell_type": "code",
   "execution_count": 99,
   "id": "6c01de8d",
   "metadata": {},
   "outputs": [
    {
     "data": {
      "text/plain": [
       "<AxesSubplot:xlabel='Date'>"
      ]
     },
     "execution_count": 99,
     "metadata": {},
     "output_type": "execute_result"
    },
    {
     "data": {
      "image/png": "[encoded data removed]",
      "text/plain": [
       "<Figure size 720x432 with 1 Axes>"
      ]
     },
     "metadata": {
      "needs_background": "light"
     },
     "output_type": "display_data"
    }
   ],
   "source": [
    "data[['Close','EWMA']].plot(figsize=(10,6))"
   ]
  },
  {
   "cell_type": "code",
   "execution_count": null,
   "id": "f2f342c1",
   "metadata": {},
   "outputs": [],
   "source": []
  }
 ],
 "metadata": {
  "kernelspec": {
   "display_name": "Python 3 (ipykernel)",
   "language": "python",
   "name": "python3"
  },
  "language_info": {
   "codemirror_mode": {
    "name": "ipython",
    "version": 3
   },
   "file_extension": ".py",
   "mimetype": "text/x-python",
   "name": "python",
   "nbconvert_exporter": "python",
   "pygments_lexer": "ipython3",
   "version": "3.9.12"
  }
 },
 "nbformat": 4,
 "nbformat_minor": 5
}
