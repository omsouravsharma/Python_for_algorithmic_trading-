{
 "cells": [
  {
   "cell_type": "markdown",
   "id": "98484baf",
   "metadata": {},
   "source": [
    "# Performance Python"
   ]
  },
  {
   "cell_type": "markdown",
   "id": "ff819330",
   "metadata": {},
   "source": [
    "## Loops"
   ]
  },
  {
   "cell_type": "code",
   "execution_count": null,
   "id": "9e8430bb",
   "metadata": {},
   "outputs": [],
   "source": [
    "import random\n",
    "\n",
    "def average_py(n):\n",
    "    s = 0\n",
    "    for i in range(n):\n",
    "        s += random.random()\n",
    "    return s/n"
   ]
  },
  {
   "cell_type": "code",
   "execution_count": 2,
   "id": "b238f3fb",
   "metadata": {},
   "outputs": [
    {
     "name": "stdout",
     "output_type": "stream",
     "text": [
      "CPU times: total: 93.8 ms\n",
      "Wall time: 96.7 ms\n"
     ]
    },
    {
     "data": {
      "text/plain": [
       "0.5006924884290385"
      ]
     },
     "execution_count": 2,
     "metadata": {},
     "output_type": "execute_result"
    }
   ],
   "source": [
    "n = 1000000\n",
    "%time average_py(n)"
   ]
  },
  {
   "cell_type": "code",
   "execution_count": 3,
   "id": "f1910bb8",
   "metadata": {},
   "outputs": [
    {
     "name": "stdout",
     "output_type": "stream",
     "text": [
      "89.8 ms ± 5.12 ms per loop (mean ± std. dev. of 7 runs, 10 loops each)\n"
     ]
    }
   ],
   "source": [
    "%timeit average_py(n)"
   ]
  },
  {
   "cell_type": "code",
   "execution_count": 4,
   "id": "f0118f99",
   "metadata": {},
   "outputs": [
    {
     "name": "stdout",
     "output_type": "stream",
     "text": [
      "CPU times: total: 109 ms\n",
      "Wall time: 101 ms\n"
     ]
    },
    {
     "data": {
      "text/plain": [
       "0.499829109289507"
      ]
     },
     "execution_count": 4,
     "metadata": {},
     "output_type": "execute_result"
    }
   ],
   "source": [
    "%time sum([random.random() for i in range(n)])/n "
   ]
  },
  {
   "cell_type": "markdown",
   "id": "1d38af16",
   "metadata": {},
   "source": [
    "## Numpy"
   ]
  },
  {
   "cell_type": "code",
   "execution_count": 5,
   "id": "fc5996c7",
   "metadata": {},
   "outputs": [],
   "source": [
    "import numpy as np"
   ]
  },
  {
   "cell_type": "code",
   "execution_count": 6,
   "id": "bd2d8b78",
   "metadata": {},
   "outputs": [],
   "source": [
    "def average_np(n):\n",
    "    s = np.random.random(n)\n",
    "    return s.mean()"
   ]
  },
  {
   "cell_type": "code",
   "execution_count": 7,
   "id": "f13210aa",
   "metadata": {},
   "outputs": [
    {
     "name": "stdout",
     "output_type": "stream",
     "text": [
      "CPU times: total: 15.6 ms\n",
      "Wall time: 11 ms\n"
     ]
    },
    {
     "data": {
      "text/plain": [
       "0.5001227072540702"
      ]
     },
     "execution_count": 7,
     "metadata": {},
     "output_type": "execute_result"
    }
   ],
   "source": [
    "%time average_np(n)"
   ]
  },
  {
   "cell_type": "code",
   "execution_count": 8,
   "id": "e5815326",
   "metadata": {},
   "outputs": [
    {
     "name": "stdout",
     "output_type": "stream",
     "text": [
      "7.43 ms ± 422 µs per loop (mean ± std. dev. of 7 runs, 100 loops each)\n"
     ]
    }
   ],
   "source": [
    "%timeit average_np(n)"
   ]
  },
  {
   "cell_type": "markdown",
   "id": "67f48a80",
   "metadata": {},
   "source": [
    "## Algorithms"
   ]
  },
  {
   "cell_type": "markdown",
   "id": "ef1c6ff5",
   "metadata": {},
   "source": [
    "## Prime Number"
   ]
  },
  {
   "cell_type": "code",
   "execution_count": 16,
   "id": "5684edda",
   "metadata": {},
   "outputs": [],
   "source": [
    "def is_prime(I):\n",
    "    if I%2 ==0:\n",
    "        return False\n",
    "    for i in range(3, int(I**0.5)+1,2):\n",
    "        if I%i ==0:\n",
    "            return False\n",
    "    return True"
   ]
  },
  {
   "cell_type": "code",
   "execution_count": 17,
   "id": "a79105fe",
   "metadata": {},
   "outputs": [],
   "source": [
    "n = int(1e8 +3)"
   ]
  },
  {
   "cell_type": "code",
   "execution_count": 18,
   "id": "15b83f07",
   "metadata": {},
   "outputs": [
    {
     "data": {
      "text/plain": [
       "100000003"
      ]
     },
     "execution_count": 18,
     "metadata": {},
     "output_type": "execute_result"
    }
   ],
   "source": [
    "n"
   ]
  },
  {
   "cell_type": "code",
   "execution_count": 19,
   "id": "cbb9221c",
   "metadata": {},
   "outputs": [
    {
     "name": "stdout",
     "output_type": "stream",
     "text": [
      "CPU times: total: 0 ns\n",
      "Wall time: 0 ns\n"
     ]
    },
    {
     "data": {
      "text/plain": [
       "False"
      ]
     },
     "execution_count": 19,
     "metadata": {},
     "output_type": "execute_result"
    }
   ],
   "source": [
    "%time is_prime(n)"
   ]
  },
  {
   "cell_type": "code",
   "execution_count": 20,
   "id": "c7e052d0",
   "metadata": {},
   "outputs": [],
   "source": [
    "pi = int(1e8 + 7)"
   ]
  },
  {
   "cell_type": "code",
   "execution_count": 21,
   "id": "93d96107",
   "metadata": {},
   "outputs": [
    {
     "data": {
      "text/plain": [
       "100000007"
      ]
     },
     "execution_count": 21,
     "metadata": {},
     "output_type": "execute_result"
    }
   ],
   "source": [
    "pi"
   ]
  },
  {
   "cell_type": "code",
   "execution_count": 22,
   "id": "7c9fcc86",
   "metadata": {},
   "outputs": [
    {
     "name": "stdout",
     "output_type": "stream",
     "text": [
      "CPU times: total: 0 ns\n",
      "Wall time: 0 ns\n"
     ]
    },
    {
     "data": {
      "text/plain": [
       "True"
      ]
     },
     "execution_count": 22,
     "metadata": {},
     "output_type": "execute_result"
    }
   ],
   "source": [
    "%time is_prime(pi)"
   ]
  },
  {
   "cell_type": "code",
   "execution_count": 23,
   "id": "649b469f",
   "metadata": {},
   "outputs": [],
   "source": [
    "p2 = 100109100129162907"
   ]
  },
  {
   "cell_type": "code",
   "execution_count": 24,
   "id": "d4b05436",
   "metadata": {},
   "outputs": [
    {
     "data": {
      "text/plain": [
       "57"
      ]
     },
     "execution_count": 24,
     "metadata": {},
     "output_type": "execute_result"
    }
   ],
   "source": [
    "p2.bit_length()"
   ]
  },
  {
   "cell_type": "code",
   "execution_count": 28,
   "id": "544ad8bd",
   "metadata": {},
   "outputs": [
    {
     "name": "stdout",
     "output_type": "stream",
     "text": [
      "CPU times: total: 12.9 s\n",
      "Wall time: 12.9 s\n"
     ]
    },
    {
     "data": {
      "text/plain": [
       "True"
      ]
     },
     "execution_count": 28,
     "metadata": {},
     "output_type": "execute_result"
    }
   ],
   "source": [
    "%time is_prime(p2)"
   ]
  },
  {
   "cell_type": "code",
   "execution_count": null,
   "id": "732b6428",
   "metadata": {},
   "outputs": [],
   "source": [
    "\n",
    "# import multiprocessing as mp\n",
    "# pool = mp.Pool(processes=4) \n",
    "# %time pool.map(is_prime, 10 * [pi]) \n"
   ]
  },
  {
   "cell_type": "markdown",
   "id": "cc1d82d4",
   "metadata": {},
   "source": [
    "## Fibonacci Number"
   ]
  },
  {
   "cell_type": "code",
   "execution_count": 1,
   "id": "153159a2",
   "metadata": {},
   "outputs": [],
   "source": [
    "def fibo(n):\n",
    "    if n < 2: return n \n",
    "    else:\n",
    "        return fibo(n-1) + fibo(n-2)"
   ]
  },
  {
   "cell_type": "code",
   "execution_count": 6,
   "id": "f9678a06",
   "metadata": {},
   "outputs": [
    {
     "name": "stdout",
     "output_type": "stream",
     "text": [
      "CPU times: total: 2.72 s\n",
      "Wall time: 2.73 s\n"
     ]
    },
    {
     "data": {
      "text/plain": [
       "9227465"
      ]
     },
     "execution_count": 6,
     "metadata": {},
     "output_type": "execute_result"
    }
   ],
   "source": [
    "%time fibo(35)"
   ]
  },
  {
   "cell_type": "code",
   "execution_count": 8,
   "id": "2a35adef",
   "metadata": {},
   "outputs": [],
   "source": [
    "from functools import lru_cache as cache\n",
    "@cache(maxsize=None) \n",
    "def fib_rec_py2(n):\n",
    "    if n < 2:\n",
    "         return n\n",
    "    else:\n",
    "         return fib_rec_py2(n - 1) + fib_rec_py2(n - 2)"
   ]
  },
  {
   "cell_type": "code",
   "execution_count": 10,
   "id": "2f21ef12",
   "metadata": {},
   "outputs": [
    {
     "name": "stdout",
     "output_type": "stream",
     "text": [
      "CPU times: total: 0 ns\n",
      "Wall time: 0 ns\n"
     ]
    },
    {
     "data": {
      "text/plain": [
       "23416728348467685"
      ]
     },
     "execution_count": 10,
     "metadata": {},
     "output_type": "execute_result"
    }
   ],
   "source": [
    "%time fib_rec_py2(80)"
   ]
  },
  {
   "cell_type": "markdown",
   "id": "0e134ff0",
   "metadata": {},
   "source": [
    "## The Number Pi"
   ]
  },
  {
   "cell_type": "code",
   "execution_count": null,
   "id": "fd77cfb5",
   "metadata": {},
   "outputs": [],
   "source": [
    "310"
   ]
  }
 ],
 "metadata": {
  "kernelspec": {
   "display_name": "Python 3 (ipykernel)",
   "language": "python",
   "name": "python3"
  },
  "language_info": {
   "codemirror_mode": {
    "name": "ipython",
    "version": 3
   },
   "file_extension": ".py",
   "mimetype": "text/x-python",
   "name": "python",
   "nbconvert_exporter": "python",
   "pygments_lexer": "ipython3",
   "version": "3.9.12"
  }
 },
 "nbformat": 4,
 "nbformat_minor": 5
}
