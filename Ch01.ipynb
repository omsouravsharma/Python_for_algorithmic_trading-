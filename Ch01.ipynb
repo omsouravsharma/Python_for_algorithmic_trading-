{
 "cells": [
  {
   "cell_type": "code",
   "execution_count": 1,
   "id": "83e7e0fb",
   "metadata": {},
   "outputs": [],
   "source": [
    "import math\n",
    "import numpy as np"
   ]
  },
  {
   "cell_type": "code",
   "execution_count": 2,
   "id": "5d6dbc03",
   "metadata": {},
   "outputs": [],
   "source": [
    "S0= 100\n",
    "K = 105\n",
    "T = 1.0\n",
    "r = 0.05\n",
    "sigma = 0.2\n",
    "I = 10000\n",
    "np.random.seed(1000)\n",
    "\n",
    "z = np.random.standard_normal(I)"
   ]
  },
  {
   "cell_type": "code",
   "execution_count": 3,
   "id": "999c9b87",
   "metadata": {},
   "outputs": [],
   "source": [
    "ST = S0 * np.exp((r - sigma ** 2 / 2) * T + sigma * math.sqrt(T) * z)\n",
    "hT = np.maximum(ST - K, 0)\n",
    "C0 = math.exp(-r * T) * np.mean(hT)"
   ]
  },
  {
   "cell_type": "code",
   "execution_count": 4,
   "id": "46867b9c",
   "metadata": {},
   "outputs": [
    {
     "name": "stdout",
     "output_type": "stream",
     "text": [
      "Value of the European call option: 8.008.\n"
     ]
    }
   ],
   "source": [
    "print('Value of the European call option: {:5.3f}.'.format(C0)) \n"
   ]
  },
  {
   "cell_type": "code",
   "execution_count": null,
   "id": "11797ec2",
   "metadata": {},
   "outputs": [],
   "source": [
    "pg 42"
   ]
  }
 ],
 "metadata": {
  "kernelspec": {
   "display_name": "Python 3 (ipykernel)",
   "language": "python",
   "name": "python3"
  },
  "language_info": {
   "codemirror_mode": {
    "name": "ipython",
    "version": 3
   },
   "file_extension": ".py",
   "mimetype": "text/x-python",
   "name": "python",
   "nbconvert_exporter": "python",
   "pygments_lexer": "ipython3",
   "version": "3.9.12"
  }
 },
 "nbformat": 4,
 "nbformat_minor": 5
}
